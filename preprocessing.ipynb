{
 "cells": [
  {
   "cell_type": "markdown",
   "metadata": {},
   "source": [
    "# Preprocessing "
   ]
  },
  {
   "cell_type": "markdown",
   "metadata": {},
   "source": [
    "In questo script di preprocessing vengono estratti i volti dal dataset selezionato, successivamente viene effettuata la predizione dei 68 landamark facciali e su di essi viene applicato lo Spider Web Model che restituirà per ogni immagine rilevata un array caratteristico. Al termine dell'iterazione delle immagini all'interno di un file .csv verranno salvati l'array calcolato dal modello a ragnatela e le informazioni riguardo il genere e il rilevamento del volto."
   ]
  },
  {
   "cell_type": "markdown",
   "metadata": {},
   "source": [
    "## Import di librerie"
   ]
  },
  {
   "cell_type": "code",
   "execution_count": 1,
   "metadata": {},
   "outputs": [],
   "source": [
    "!wget -O shape_predictor_68_face_landmarks.dat \"https://github.com/italojs/facial-landmarks-recognition-/raw/master/shape_predictor_68_face_landmarks.dat\"\n",
    "!wget -O mmod_human_face_detector.dat \"http://arunponnusamy.com/files/mmod_human_face_detector.dat\"\n",
    "\n",
    "import os\n",
    "import time\n",
    "import threading\n",
    "import multiprocessing\n",
    "import math\n",
    "from pylab import *\n",
    "import PIL.Image as im\n",
    "import csv\n",
    "import sys\n",
    "\n",
    "from imutils import face_utils\n",
    "import numpy as np\n",
    "import argparse\n",
    "import imutils\n",
    "import dlib\n",
    "import cv2\n",
    "from PIL import ImageFont\n",
    "from PIL import Image\n",
    "from PIL import ImageDraw\n",
    "from string import Template\n",
    "import string\n",
    "\n",
    "from tqdm import tqdm\n",
    "import pandas as pd\n",
    "\n",
    "import dlib.cuda as cuda\n",
    "\n",
    "dlib.DLIB_USE_CUDA = True\n",
    "\n",
    "mmod = True #Usa rete neurale\n"
   ]
  },
  {
   "cell_type": "markdown",
   "metadata": {},
   "source": [
    "## Funzione distanza euclidea"
   ]
  },
  {
   "cell_type": "markdown",
   "metadata": {},
   "source": [
    "Questa funzione presi in input le coordinate di due punti P1(x1,y1) e P2(x2,y2) restituisce la loro distanza euclidea."
   ]
  },
  {
   "cell_type": "code",
   "execution_count": 2,
   "metadata": {},
   "outputs": [],
   "source": [
    "def distanza(x1, y1, x2, y2):    \n",
    "    x12 = (x2 - x1) * (x2 - x1)\n",
    "    y12 = (y2 - y1) * (y2 - y1)\n",
    "    xy = x12 + y12\n",
    "    dist = math.sqrt(xy)\n",
    "    return dist"
   ]
  },
  {
   "cell_type": "markdown",
   "metadata": {},
   "source": [
    "## Funzione aggiunta landmark su ragnatela"
   ]
  },
  {
   "cell_type": "markdown",
   "metadata": {},
   "source": [
    "In questa funzione presi in input\n",
    "\n",
    "- le coordinate del landmark che è sulla punta del naso\n",
    "- il raggio (inizialmente uguale a 0)\n",
    "- le coordinate del punto in questione\n",
    "- la distanza euclidea tra il landmark sulla punta del naso e il punto in questione\n",
    "- il coefficiente angolare\n",
    "\n",
    "assegna al punto in questione il cerchio, il quadrante e la fetta e aggiunge il punto nella posizione corrispondente nell'array caratteristico."
   ]
  },
  {
   "cell_type": "code",
   "execution_count": 3,
   "metadata": {},
   "outputs": [],
   "source": [
    "def aggiungi(xcentro, ycentro, rax, xpunto, ypunto, distNaso, coeff):\n",
    "\n",
    "    indice = 0\n",
    "\n",
    "    settore = np.zeros(3) #cerchio, quadrante, fetta\n",
    "\n",
    "    \n",
    "    a = 0  # a = raggioStart\n",
    "    b8 = 4 * rax / 10  # b = raggioStop\n",
    "    i = 1  # in quale cerchio cade il punto. i = [1, cerchi]primo\n",
    "\n",
    "    b4 = 7 * rax / 10\n",
    "    b2 = 9 * rax / 10\n",
    "\n",
    "    #cerchi\n",
    "    if( distNaso > a and distNaso <= b8):\n",
    "        # il punto appartiene al primo cerchio (quello più esterno)\n",
    "        settore[0] = 1\n",
    "    elif(distNaso > b8 and distNaso <= b4):\n",
    "        # il punto appartiene al secondo cerchio\n",
    "        settore[0] = 2\n",
    "    elif(distNaso > b4 and distNaso <= b2):\n",
    "        # il punto appartiene al terzo cerchio\n",
    "        settore[0] = 3   \n",
    "    else :\n",
    "        # il punto appartiene al quarto cerchio\n",
    "        settore[0] = 4\n",
    "        \n",
    "\n",
    "\n",
    "    #quadrante\n",
    "    if (xpunto <= xcentro and y <= ycentro):\n",
    "        # il punto appartiene al quadrante in alto a sinistra\n",
    "        settore[1] = 2\n",
    "    elif (x <= xnose and y >= ynose):\n",
    "        # il punto appartiene al quadrante in basso a sinistra\n",
    "        settore[1] = 3\n",
    "    elif (x >= xnose and y <= ynose):\n",
    "        # il punto appartiene al quadrante in alto a destra\n",
    "        settore[1] = 1\n",
    "    else:\n",
    "        # il punto appartiene al quadrante in basso a destra\n",
    "        settore[1] = 4\n",
    "\n",
    "    \n",
    "    a = 0                 #grado Start\n",
    "    b = 90  / fetteQ      #grado Stop\n",
    "    i = 1                 #in quale fetta cade il punto. i = [1, fette]\n",
    "\n",
    "    radang_a = 0                    # radiante Start\n",
    "    radang_b = math.radians(b)      # radiante Stop\n",
    "    tng_a = math.tan(radang_a)\n",
    "    tng_b = math.tan(radang_b)\n",
    "\n",
    "\n",
    "    #fetta\n",
    "    while(settore[2] == 0 and b < 90):\n",
    "        if(coeff > tng_a and coeff <= tng_b):\n",
    "            settore[2] = i\n",
    "        b = b + (90  / fetteQ)\n",
    "        radang_b = math.radians(b)  # radiante Stop\n",
    "        tng_a = tng_b\n",
    "        tng_b = math.tan(radang_b)\n",
    "        i = i+1\n",
    "\n",
    "    if(xpunto == xnose):\n",
    "        settore[2] = 1\n",
    "\n",
    "\n",
    "    if(settore[2] == 0):\n",
    "        settore[2] = fetteQ\n",
    "\n",
    "        # settore[0] = cerchio\n",
    "        # settore[1] = quadrante\n",
    "        # settore[2] = fetta\n",
    "\n",
    "\n",
    "\n",
    "    if(settore[1] == 1 or settore[1] == 3):\n",
    "        indice = int(fette * (settore[0]-1) + fetteQ * (settore[1] -1) + abs(settore[2] - 4 ) -1)\n",
    "    else:\n",
    "        indice = int(fette * (settore[0] - 1) + fetteQ * (settore[1] - 1) + settore[2] - 1)\n",
    "\n",
    "\n",
    "    try:\n",
    "        if (xnose != xpunto or ynose != ypunto):   #il naso non ha settore\n",
    "            volto[indice] = int(volto[indice] + 1)\n",
    "    except:\n",
    "        #else:\n",
    "        print(\"ERORE------\")\n",
    "        print(\"indice \", indice)\n",
    "\n",
    "    return indice\n"
   ]
  },
  {
   "cell_type": "markdown",
   "metadata": {},
   "source": [
    "## Inizializzazioni e lettura dei dataset"
   ]
  },
  {
   "cell_type": "markdown",
   "metadata": {},
   "source": [
    "In questa sezione vengono inizializzate le variabili utili al rilevamento del volto, alla predizione dei landmark e allo Spider Web Model. Successivamente vengono letti come data frame Pandas i dataset e come file csv i file contenenti gli attributi d'interesse dei dataset."
   ]
  },
  {
   "cell_type": "code",
   "execution_count": 4,
   "metadata": {},
   "outputs": [],
   "source": [
    "#rilevatore MMOD basato su CNN\n",
    "detector =  dlib.cnn_face_detection_model_v1(\"mmod_human_face_detector.dat\")\n",
    "\n",
    "\n",
    "#crea il predittore dei landmarks facciali\n",
    "predictor = dlib.shape_predictor(\"shape_predictor_68_face_landmarks.dat\")\n",
    "\n",
    "intero = 0\n",
    "\n",
    "voltostr = ''\n",
    "\n",
    "cerchi = 4  # cerchi della ragnatela\n",
    "fetteQ = 4  # fette per quadrante\n",
    "\n",
    "fette = fetteQ * 4\n",
    "s1 = cerchi * fette\n",
    "\n",
    "#array di numeri 0 di dimensione s1=64 \n",
    "volto = np.zeros(s1)"
   ]
  },
  {
   "cell_type": "code",
   "execution_count": 5,
   "metadata": {},
   "outputs": [],
   "source": [
    "base_path='train'\n",
    "\n",
    "folder_img = os.path.join(base_path, \"data\")\n",
    "csv_file = os.path.join(base_path, 'train_gtruth.csv') #settaggio per Whe Dataset\n",
    "\n",
    "dataset = pd.read_csv(csv_file)"
   ]
  },
  {
   "cell_type": "markdown",
   "metadata": {},
   "source": [
    "vengono presi dai file csv solo i dati d'interesse ovvero l'id dell'immagine e il genere "
   ]
  },
  {
   "cell_type": "code",
   "execution_count": 6,
   "metadata": {},
   "outputs": [],
   "source": [
    "images=dataset[['TEMPLATE_ID']]\n",
    "gender=dataset[['GENDER']]\n",
    "\n",
    "num_volto = 0\n",
    "\n",
    "n_imgs = images.shape[0]    #numero totale di immagini nel csv"
   ]
  },
  {
   "cell_type": "markdown",
   "metadata": {},
   "source": [
    "inizializzazione dei dizionari per il vettore caratteristico dello spider web-model, per il genere e per il rilevamento del volto"
   ]
  },
  {
   "cell_type": "code",
   "execution_count": 7,
   "metadata": {},
   "outputs": [],
   "source": [
    "dizionario = [ [ 0 for y in range(s1)] for x in range(n_imgs)]   #inizializzazione di n_imgs array ognuno di 64 elementi\n",
    "\n",
    "dizionario_str = ['' for xx in range(n_imgs)]    #inizializzazione array dizionario_str\n",
    "\n",
    "gender_str = ['' for xx in range(n_imgs)]    #inizializzazione array gender_str\n",
    "\n",
    "valid_face = [0 for xx in range(n_imgs)]    #inizializzazione array valid_face"
   ]
  },
  {
   "cell_type": "markdown",
   "metadata": {},
   "source": [
    "## Inizio ciclo di iterazione"
   ]
  },
  {
   "cell_type": "markdown",
   "metadata": {},
   "source": [
    "In questa sezione inizia il ciclo di iterazione su tutte le immagini presenti nel dataset con funzione tqdm() per visualizzare una progress bar"
   ]
  },
  {
   "cell_type": "code",
   "execution_count": 8,
   "metadata": {},
   "outputs": [
    {
     "name": "stderr",
     "output_type": "stream",
     "text": [
      "  0%|          | 5/100186 [00:01<15:53:41,  1.75it/s]\n"
     ]
    }
   ],
   "source": [
    "for count,img in tqdm(images.iterrows(), total=n_imgs):\n",
    "    \n",
    "    #Settaggio per WheDataset\n",
    "    if(gender.loc[count,'GENDER'] == 0):\n",
    "        #1 = MASCHIO\n",
    "        gender_str[num_volto]=1\n",
    "    if(gender.loc[count,'GENDER'] == 1):\n",
    "        #0 = DONNA\n",
    "        gender_str[num_volto]=0\n",
    "\n",
    "\n",
    "    filename = str(img[0])+'.jpg'\n",
    "\n",
    "    filename = os.path.join(folder_img, filename)\n",
    "\n",
    "    #lettura immagine con opencv\n",
    "    foto = cv2.imread(filename)\n",
    "    \n",
    "    volto = np.zeros(s1)\n",
    "    \n",
    "    xnose = 0   #coordinata X del punto corrispondente al naso\n",
    "    ynose = 0   #coordinata Y del punto corrispondente al naso\n",
    "    \n",
    "\n",
    "    xlont = 0 #coordinata x del landmark più lontano dal naso\n",
    "    ylont = 0 #coordinata y del landmark più lontano dal naso\n",
    "\n",
    "    #resize a 512px della foto\n",
    "    foto = imutils.resize(foto, width=512) \n",
    "\n",
    "    #coversione immagine in scala di grigi       \n",
    "    gray = cv2.cvtColor(foto, cv2.COLOR_BGR2GRAY)\n",
    "\n",
    "    #rileva i volti nell'immagine in scala di grigi\n",
    "    rects = detector(foto, 1)\n",
    "\n",
    "\n",
    "    dista = 0\n",
    "    raggio = 0\n",
    "\n",
    "    m = 0 #coefficiente angolare\n",
    "    d = 0 #distanza euclidea\n",
    "\n",
    "\n",
    "\n",
    "    #per ogni volto (rect) trovato nella foto\n",
    "    for (i, rect) in enumerate(rects):\n",
    "        \n",
    "        valid_face[num_volto]=1 #settato a 1 perchè ha trovato un volto\n",
    "        \n",
    "        \n",
    "        if mmod:\n",
    "            rect = rect.rect    #restituisce oggetto rect\n",
    "        \n",
    "        #determina i landmarks facciali per la regiione del volto\n",
    "        shape = predictor(gray, rect)\n",
    "\n",
    "        #converte i landmark facciali (x, y)-coordinates in un array di NumPy\n",
    "        shape = face_utils.shape_to_np(shape)\n",
    "\n",
    "        \n",
    "        #converte i rettangoli di dlib in rettangoli di OpenCV \n",
    "        (x, y, w, h) = face_utils.rect_to_bb(rect)\n",
    "\n",
    "        xnose = shape[33][0]    #assegna la coordinata X del landmark 33 che corrisponde alla punta del naso\n",
    "        ynose = shape[33][1]    #assegna la coordinata Y del landmark 33 che corrisponde alla punta del naso\n",
    "\n",
    "        \n",
    "        #per ogni coppia di coordinate (x,y) all'interno dell'array di landmarks\n",
    "        for (x, y) in shape:\n",
    "\n",
    "            #calcola la distanza euclidea tra il punto del naso e i punti facciali dei landmark\n",
    "            dista = distanza(xnose, ynose, x, y)\n",
    "        \n",
    "            \n",
    "            if(dista > raggio):\n",
    "                #nell'ultima iterazione il raggio sarà pari alla distanza euclidea tra il punto del naso (Xnose,Ynose)e il punto(landmark) più lontano\n",
    "                raggio = dista\n",
    "                xlont = x   #coordinata x del punto(landmark) più lontano dal naso\n",
    "                ylont = y   #coordinata y del punto(landmark) più lontano dal naso\n",
    "\n",
    "\n",
    "\n",
    "        #per ogni coppia di coordinate (x,y) all'interno dell'array di landmarks\n",
    "        for(x,y) in shape:\n",
    "            #settore = [0,0,0]\n",
    "            if(y == ynose):\n",
    "                m = 0\n",
    "            else:\n",
    "                m = (x - xnose)/(y-ynose)\n",
    "            m = abs(m)\n",
    "\n",
    "            #calcola la distanza euclidea di ogni punto(landmark) dal punto del naso\n",
    "            d = distanza(xnose, ynose, x,y)\n",
    "\n",
    "            \n",
    "            #aggiunge il punto di coordinate x,y nell'array caratteristico\n",
    "            aggiungi(xnose, ynose, raggio, x, y, d, m)\n",
    "\n",
    "       \n",
    "       \n",
    "    dizionario[num_volto] = volto\n",
    "\n",
    "    dizionario_str[num_volto] = img[0]\n",
    "\n",
    "    num_volto = num_volto +1\n",
    "\n",
    "\n"
   ]
  },
  {
   "cell_type": "markdown",
   "metadata": {},
   "source": [
    "## Salvataggio dati"
   ]
  },
  {
   "cell_type": "markdown",
   "metadata": {},
   "source": [
    "In questa ultima sezione tutti i dati vengono salvati in un file csv. Si utilizzano differenti file a secondo del database"
   ]
  },
  {
   "cell_type": "code",
   "execution_count": 9,
   "metadata": {},
   "outputs": [],
   "source": [
    "data=pd.DataFrame({'dizionario':dizionario,'dizionario_str':dizionario_str,'gender_str':gender_str, 'valid_face':valid_face})\n",
    "\n",
    "data.to_csv('dfWheDataset.csv', index=False) #settaggio per WheDataset"
   ]
  },
  {
   "cell_type": "code",
   "execution_count": null,
   "metadata": {},
   "outputs": [],
   "source": []
  }
 ],
 "metadata": {
  "anaconda-cloud": {},
  "kernelspec": {
   "display_name": "Python 3",
   "language": "python",
   "name": "python3"
  },
  "language_info": {
   "codemirror_mode": {
    "name": "ipython",
    "version": 3
   },
   "file_extension": ".py",
   "mimetype": "text/x-python",
   "name": "python",
   "nbconvert_exporter": "python",
   "pygments_lexer": "ipython3",
   "version": "3.7.6"
  }
 },
 "nbformat": 4,
 "nbformat_minor": 1
}
