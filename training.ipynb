{
 "cells": [
  {
   "cell_type": "markdown",
   "metadata": {},
   "source": [
    "# Training"
   ]
  },
  {
   "cell_type": "markdown",
   "metadata": {},
   "source": [
    "In questo script viene effettuato il training dei dati a secondo del dataset scelto e visualizzati i risultati ottenuti con una matrice di confusione e una tabella di Metric Accuracy"
   ]
  },
  {
   "cell_type": "markdown",
   "metadata": {},
   "source": [
    "## Import di liberie"
   ]
  },
  {
   "cell_type": "code",
   "execution_count": 2,
   "metadata": {},
   "outputs": [
    {
     "name": "stderr",
     "output_type": "stream",
     "text": [
      "Using TensorFlow backend.\n",
      "/home/francesco/.local/lib/python3.5/site-packages/tensorflow/python/framework/dtypes.py:523: FutureWarning: Passing (type, 1) or '1type' as a synonym of type is deprecated; in a future version of numpy, it will be understood as (type, (1,)) / '(1,)type'.\n",
      "  _np_qint8 = np.dtype([(\"qint8\", np.int8, 1)])\n",
      "/home/francesco/.local/lib/python3.5/site-packages/tensorflow/python/framework/dtypes.py:524: FutureWarning: Passing (type, 1) or '1type' as a synonym of type is deprecated; in a future version of numpy, it will be understood as (type, (1,)) / '(1,)type'.\n",
      "  _np_quint8 = np.dtype([(\"quint8\", np.uint8, 1)])\n",
      "/home/francesco/.local/lib/python3.5/site-packages/tensorflow/python/framework/dtypes.py:525: FutureWarning: Passing (type, 1) or '1type' as a synonym of type is deprecated; in a future version of numpy, it will be understood as (type, (1,)) / '(1,)type'.\n",
      "  _np_qint16 = np.dtype([(\"qint16\", np.int16, 1)])\n",
      "/home/francesco/.local/lib/python3.5/site-packages/tensorflow/python/framework/dtypes.py:526: FutureWarning: Passing (type, 1) or '1type' as a synonym of type is deprecated; in a future version of numpy, it will be understood as (type, (1,)) / '(1,)type'.\n",
      "  _np_quint16 = np.dtype([(\"quint16\", np.uint16, 1)])\n",
      "/home/francesco/.local/lib/python3.5/site-packages/tensorflow/python/framework/dtypes.py:527: FutureWarning: Passing (type, 1) or '1type' as a synonym of type is deprecated; in a future version of numpy, it will be understood as (type, (1,)) / '(1,)type'.\n",
      "  _np_qint32 = np.dtype([(\"qint32\", np.int32, 1)])\n",
      "/home/francesco/.local/lib/python3.5/site-packages/tensorflow/python/framework/dtypes.py:532: FutureWarning: Passing (type, 1) or '1type' as a synonym of type is deprecated; in a future version of numpy, it will be understood as (type, (1,)) / '(1,)type'.\n",
      "  np_resource = np.dtype([(\"resource\", np.ubyte, 1)])\n"
     ]
    }
   ],
   "source": [
    "import numpy as np\n",
    "import dlib\n",
    "import pandas as pd\n",
    "import keras \n",
    "from keras.models import Sequential\n",
    "from keras.layers import Dense, Dropout, BatchNormalization\n",
    "from sklearn import svm\n",
    "from sklearn.preprocessing import normalize\n",
    "from sklearn.model_selection import train_test_split\n",
    "from sklearn.metrics import accuracy_score\n",
    "from sklearn.metrics import confusion_matrix\n",
    "import tensorflow as tf\n",
    "from time import time\n",
    "from tensorflow.python.keras.callbacks import TensorBoard\n",
    "from sklearn.utils import resample\n",
    "from sklearn import metrics\n",
    "import dlib.cuda as cuda"
   ]
  },
  {
   "cell_type": "markdown",
   "metadata": {},
   "source": [
    "## Caricamento di train e test set per ogni dataset"
   ]
  },
  {
   "cell_type": "code",
   "execution_count": 3,
   "metadata": {},
   "outputs": [],
   "source": [
    "#Caricamento di train e test set del dataset1 - CelebA\n",
    "X1_train = np.load('dataset1/X1_train.npy')\n",
    "X1_test = np.load('dataset1/X1_test.npy')\n",
    "y1_train = np.load('dataset1/y1_train.npy')\n",
    "y1_test = np.load('dataset1/y1_test.npy')\n",
    "\n",
    "#Caricamento di train e test set del dataset2 - WheDataset\n",
    "X2_train = np.load('dataset2/X2_train.npy')\n",
    "X2_test = np.load('dataset2/X2_test.npy')\n",
    "y2_train = np.load('dataset2/y2_train.npy')\n",
    "y2_test = np.load('dataset2/y2_test.npy')\n",
    "\n",
    "#Caricamento di train e test set del dataset3 - CelebA + WheDataset\n",
    "X3_train = np.load('dataset3/X3_train.npy')\n",
    "X3_test = np.load('dataset3/X3_test.npy')\n",
    "y3_train = np.load('dataset3/y3_train.npy')\n",
    "y3_test = np.load('dataset3/y3_test.npy')"
   ]
  },
  {
   "cell_type": "markdown",
   "metadata": {},
   "source": [
    "## Rete Neurale (ANN)"
   ]
  },
  {
   "cell_type": "markdown",
   "metadata": {},
   "source": [
    "In questa sezione sono presenti le due reti neurali utilizzate per lo sviluppo di questo progetto. La CNN1 è stata la prima rete neurale che è stata sperimentata ma non ha raggiunto ottime performance sul test set. La seconda rete CNN2 invece ha raggiunto risultati migliori."
   ]
  },
  {
   "cell_type": "code",
   "execution_count": null,
   "metadata": {},
   "outputs": [],
   "source": [
    "classifier = Sequential()\n",
    "'''\n",
    "#ANN1\n",
    "classifier.add(Dense(output_dim = 128,  activation = 'relu', input_dim = 64))\n",
    "classifier.add(Dense(output_dim = 64, activation = 'relu'))\n",
    "classifier.add(Dense(output_dim = 32, activation = 'relu'))\n",
    "classifier.add(Dense(output_dim = 16, activation = 'relu'))\n",
    "classifier.add(Dense(output_dim = 8, activation = 'relu'))\n",
    "classifier.add(Dense(output_dim = 1,  activation = 'sigmoid')) # sigmoid \n",
    "'''\n",
    "\n",
    "#ANN2\n",
    "classifier.add(Dense(output_dim = 64,  activation = 'relu', input_dim = 64))\n",
    "classifier.add(Dropout(0.2)) #ridimensiona i pesi del 20% per ridurre l'overfitting\n",
    "classifier.add(Dense(output_dim = 32, activation = 'relu'))\n",
    "classifier.add(Dense(output_dim = 32, activation = 'relu'))\n",
    "classifier.add(Dropout(0.2)) #ridimensiona i pesi del 20% per ridurre l'overfitting\n",
    "classifier.add(Dense(output_dim = 16, activation = 'relu'))\n",
    "classifier.add(Dense(output_dim = 8, activation = 'relu'))\n",
    "classifier.add(Dense(output_dim = 1,  activation = 'sigmoid')) # sigmoid "
   ]
  },
  {
   "cell_type": "markdown",
   "metadata": {},
   "source": [
    "In questa sezione è presenbte la compliazione e l'addestramento dei dati."
   ]
  },
  {
   "cell_type": "code",
   "execution_count": null,
   "metadata": {},
   "outputs": [],
   "source": [
    "tensorboard = TensorBoard(log_dir = \"logs/{}\".format(time())) #salva i grafici di accuracy nella cartella logs\n",
    "\n",
    "\n",
    "classifier.compile(optimizer = 'adam', loss = 'binary_crossentropy' , metrics = ['accuracy'] ) \n",
    "\n",
    "\n",
    "epoche = 100\n",
    "batch_size = 32\n",
    "\n",
    "#Settaggio con dataset 1 - CelebA\n",
    "classifier.fit(x=X1_train, y=y1_train, batch_size=batch_size, epochs=epoche, callbacks=[tensorboard])"
   ]
  },
  {
   "cell_type": "markdown",
   "metadata": {},
   "source": [
    "Questa parte salva i pesi della ANN, in modo da poterla riutilizzarla nuovamente senza effettuare nuovamente l'addestramento."
   ]
  },
  {
   "cell_type": "code",
   "execution_count": null,
   "metadata": {},
   "outputs": [],
   "source": [
    "#Settaggio per ANN2\n",
    "stringNameANN = 'ANN2 - '+'ep:'+str(epoche)+' - bs:'+str(batch_size)\n",
    "classifier.save(stringNameANN)"
   ]
  },
  {
   "cell_type": "markdown",
   "metadata": {},
   "source": [
    "## Risultati ottenuti"
   ]
  },
  {
   "cell_type": "markdown",
   "metadata": {},
   "source": [
    "In questa ultima sezione vengono mostrati i risultati ottenuti con una matrice di confusione e una tabella di Metric Accuracy."
   ]
  },
  {
   "cell_type": "code",
   "execution_count": null,
   "metadata": {},
   "outputs": [],
   "source": [
    "#Settaggio per dataset 1 - CelebA\n",
    "y_pred= classifier.predict(X1_test)\n",
    "\n",
    "y_pred_bool = (y_pred>0.5)\n",
    "\n",
    "print('Confusion Matrix')\n",
    "print(confusion_matrix(y1_test,y_pred_bool))\n",
    "\n",
    "print('Metric Accuracy')\n",
    "print(metrics.classification_report(y1_test,y_pred_bool))"
   ]
  }
 ],
 "metadata": {
  "anaconda-cloud": {},
  "kernelspec": {
   "display_name": "Python 3",
   "language": "python",
   "name": "python3"
  },
  "language_info": {
   "codemirror_mode": {
    "name": "ipython",
    "version": 3
   },
   "file_extension": ".py",
   "mimetype": "text/x-python",
   "name": "python",
   "nbconvert_exporter": "python",
   "pygments_lexer": "ipython3",
   "version": "3.5.2"
  }
 },
 "nbformat": 4,
 "nbformat_minor": 1
}
